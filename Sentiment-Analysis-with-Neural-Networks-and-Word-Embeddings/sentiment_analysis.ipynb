{
 "cells": [
  {
   "cell_type": "code",
   "execution_count": 1,
   "id": "initial_id",
   "metadata": {
    "collapsed": true,
    "ExecuteTime": {
     "end_time": "2024-01-19T05:09:11.115159500Z",
     "start_time": "2024-01-19T05:09:11.076995400Z"
    }
   },
   "outputs": [
    {
     "name": "stdout",
     "output_type": "stream",
     "text": [
      "Hello\n"
     ]
    }
   ],
   "source": [
    "import numpy as np\n",
    "\n",
    "print('Hello')"
   ]
  },
  {
   "cell_type": "code",
   "outputs": [
    {
     "name": "stderr",
     "output_type": "stream",
     "text": [
      "[nltk_data] Downloading package twitter_samples to\n",
      "[nltk_data]     C:\\Users\\abird\\AppData\\Roaming\\nltk_data...\n",
      "[nltk_data]   Package twitter_samples is already up-to-date!\n",
      "[nltk_data] Downloading package stopwords to\n",
      "[nltk_data]     C:\\Users\\abird\\AppData\\Roaming\\nltk_data...\n",
      "[nltk_data]   Package stopwords is already up-to-date!\n"
     ]
    },
    {
     "name": "stdout",
     "output_type": "stream",
     "text": [
      "number of positive tweets is:  5000\n",
      "Type of positive tweets is:  <class 'list'>\n"
     ]
    }
   ],
   "source": [
    "from utils.src import process_tweet\n",
    "all_pos_tweets, all_neg_tweets = process_tweet.tweets()\n",
    "print(\"number of positive tweets is: \", len(all_pos_tweets))\n",
    "print(\"Type of positive tweets is: \", type(all_pos_tweets))"
   ],
   "metadata": {
    "collapsed": false,
    "ExecuteTime": {
     "end_time": "2024-01-19T05:17:00.711600500Z",
     "start_time": "2024-01-19T05:16:27.828099700Z"
    }
   },
   "id": "c503ae3a5869d366",
   "execution_count": 3
  },
  {
   "cell_type": "code",
   "outputs": [],
   "source": [
    "train_pos = all_pos_tweets[:4000]\n",
    "val_pos = all_pos_tweets[4000:]\n",
    "train_neg = all_neg_tweets[:4000]\n",
    "val_neg = all_neg_tweets[4000:]\n",
    "\n",
    "train_x = train_pos + train_neg\n",
    "val_x = val_pos + val_neg\n",
    "\n",
    "train_y = [[1] for i in train_pos] + [[0] for i in train_neg]\n",
    "val_y = [[1] for i in val_pos] + [[0] for i in val_neg]"
   ],
   "metadata": {
    "collapsed": false,
    "ExecuteTime": {
     "end_time": "2024-01-19T05:23:38.939925300Z",
     "start_time": "2024-01-19T05:23:38.890176700Z"
    }
   },
   "id": "3f9ee4e3a12d1d40",
   "execution_count": 4
  },
  {
   "cell_type": "code",
   "outputs": [
    {
     "name": "stdout",
     "output_type": "stream",
     "text": [
      "size of training data is:  8000\n",
      "size of validation data is:  2000\n"
     ]
    }
   ],
   "source": [
    "print(\"size of training data is: \", len(train_y))\n",
    "print(\"size of validation data is: \", len(val_y))"
   ],
   "metadata": {
    "collapsed": false,
    "ExecuteTime": {
     "end_time": "2024-01-19T05:26:42.649912200Z",
     "start_time": "2024-01-19T05:26:42.629600600Z"
    }
   },
   "id": "15f2225a24e35f2a",
   "execution_count": 5
  },
  {
   "cell_type": "code",
   "outputs": [
    {
     "name": "stdout",
     "output_type": "stream",
     "text": [
      "vocabulary size is:  9162\n",
      "first 50 words in vocabulary are: \n",
      " ['', '[UNK]', 'followfriday', 'top', 'engag', 'member', 'commun', 'week', ':)', 'hey', 'jame', 'odd', ':/', 'pleas', 'call', 'contact', 'centr', '02392441234', 'abl', 'assist', 'mani', 'thank', 'listen', 'last', 'night', 'bleed', 'amaz', 'track', 'scotland', 'congrat', 'yeaaah', 'yipppi', 'accnt', 'verifi', 'rqst', 'succeed', 'got', 'blue', 'tick', 'mark', 'fb', 'profil', '15', 'day', 'one', 'irresist', 'flipkartfashionfriday', 'like', 'keep', 'love']\n"
     ]
    }
   ],
   "source": [
    "def build_vocab(corpus):\n",
    "    vocab = {'':0, '[UNK]':1}\n",
    "    idx = 2\n",
    "    for tweet in corpus:\n",
    "        for word in tweet:\n",
    "            if word not in vocab.keys():\n",
    "                vocab[word] = idx\n",
    "                idx += 1\n",
    "    return vocab\n",
    "\n",
    "vocabulary = build_vocab(train_x)\n",
    "vocabulary_size = len(vocabulary)\n",
    "\n",
    "print(\"vocabulary size is: \", vocabulary_size)\n",
    "print(\"first 50 words in vocabulary are: \\n\", list(vocabulary.keys())[:50])"
   ],
   "metadata": {
    "collapsed": false,
    "ExecuteTime": {
     "end_time": "2024-01-19T05:35:34.103748500Z",
     "start_time": "2024-01-19T05:35:34.031140Z"
    }
   },
   "id": "c3e43cef77f6fe3f",
   "execution_count": 10
  },
  {
   "cell_type": "code",
   "outputs": [
    {
     "data": {
      "text/plain": "(array([4.696e+03, 3.385e+03, 1.647e+03, 2.190e+02, 1.300e+01, 3.800e+01,\n        1.000e+00, 0.000e+00, 0.000e+00, 1.000e+00]),\n array([ 1.,  6., 11., 16., 21., 26., 31., 36., 41., 46., 51.]),\n <BarContainer object of 10 artists>)"
     },
     "execution_count": 11,
     "metadata": {},
     "output_type": "execute_result"
    },
    {
     "data": {
      "text/plain": "<Figure size 640x480 with 1 Axes>",
      "image/png": "[encoded data removed]"
     },
     "metadata": {},
     "output_type": "display_data"
    }
   ],
   "source": [
    "import matplotlib.pyplot as plt\n",
    "plt.hist([len(t) for t in train_x + val_x])"
   ],
   "metadata": {
    "collapsed": false,
    "ExecuteTime": {
     "end_time": "2024-01-19T05:56:39.260279100Z",
     "start_time": "2024-01-19T05:56:36.507754800Z"
    }
   },
   "id": "10b050c5848fe98a",
   "execution_count": 11
  },
  {
   "cell_type": "code",
   "outputs": [
    {
     "name": "stdout",
     "output_type": "stream",
     "text": [
      "max length of a tweet is:  51\n"
     ]
    }
   ],
   "source": [
    "def max_length(train, val):\n",
    "    max_len = 0\n",
    "    for tweet in train:\n",
    "        if len(tweet) > max_len:\n",
    "            max_len = len(tweet)\n",
    "    for tweet in val:\n",
    "        if len(tweet) > max_len:\n",
    "            max_len = len(tweet)\n",
    "    return max_len\n",
    "\n",
    "max_len = max_length(train_x, val_x)\n",
    "print(\"max length of a tweet is: \", max_len)"
   ],
   "metadata": {
    "collapsed": false,
    "ExecuteTime": {
     "end_time": "2024-01-19T05:59:13.011653800Z",
     "start_time": "2024-01-19T05:59:12.915035700Z"
    }
   },
   "id": "71451d51f19adadb",
   "execution_count": 12
  },
  {
   "cell_type": "code",
   "outputs": [],
   "source": [
    "%%sql\n"
   ],
   "metadata": {
    "collapsed": false,
    "SqlCellData": {
     "variableName$1": "df_sql"
    }
   },
   "id": "c3887fca6988fe95"
  },
  {
   "cell_type": "code",
   "outputs": [
    {
     "name": "stdout",
     "output_type": "stream",
     "text": [
      "padded sequence for the tweet  ['beauti', 'sunflow', 'sunni', 'friday', 'morn', ':)', 'sunflow', 'favourit', 'happi', 'friday', '…']  is  [288, 3943, 3618, 56, 420, 8, 3943, 1958, 55, 56, 85, 0, 0, 0, 0, 0, 0, 0, 0, 0, 0, 0, 0, 0, 0, 0, 0, 0, 0, 0, 0, 0, 0, 0, 0, 0, 0, 0, 0, 0, 0, 0, 0, 0, 0, 0, 0, 0, 0, 0, 0]\n"
     ]
    }
   ],
   "source": [
    "def padded_seq(tweet, vocab, max_length, unk_token ='[UNK]'):\n",
    "    unk_id = vocab[unk_token]\n",
    "    tensor = []\n",
    "    for word in tweet:\n",
    "        tensor.append(vocab[word]) if word in vocab.keys() else tensor.append(unk_id)\n",
    "    pad_len = max_length - len(tensor)\n",
    "    tensor = tensor + pad_len * [0]\n",
    "    return tensor\n",
    "\n",
    "print(\"padded sequence for the tweet \", all_pos_tweets[2277], \" is \", padded_seq(all_pos_tweets[2277], vocabulary, max_len))"
   ],
   "metadata": {
    "collapsed": false,
    "ExecuteTime": {
     "end_time": "2024-01-19T06:07:45.902963900Z",
     "start_time": "2024-01-19T06:07:45.826221800Z"
    }
   },
   "id": "978a0b348ea51d5c",
   "execution_count": 14
  },
  {
   "cell_type": "code",
   "outputs": [
    {
     "name": "stdout",
     "output_type": "stream",
     "text": [
      "first 10 padded sequences for train_x are: \n",
      "\n",
      "0 th index:  [2, 3, 4, 5, 6, 7, 8, 0, 0, 0, 0, 0, 0, 0, 0, 0, 0, 0, 0, 0, 0, 0, 0, 0, 0, 0, 0, 0, 0, 0, 0, 0, 0, 0, 0, 0, 0, 0, 0, 0, 0, 0, 0, 0, 0, 0, 0, 0, 0, 0, 0] \n",
      "\n",
      "1 th index:  [9, 10, 11, 12, 13, 14, 15, 16, 17, 18, 19, 8, 20, 21, 0, 0, 0, 0, 0, 0, 0, 0, 0, 0, 0, 0, 0, 0, 0, 0, 0, 0, 0, 0, 0, 0, 0, 0, 0, 0, 0, 0, 0, 0, 0, 0, 0, 0, 0, 0, 0] \n",
      "\n",
      "2 th index:  [22, 23, 24, 8, 25, 26, 27, 28, 0, 0, 0, 0, 0, 0, 0, 0, 0, 0, 0, 0, 0, 0, 0, 0, 0, 0, 0, 0, 0, 0, 0, 0, 0, 0, 0, 0, 0, 0, 0, 0, 0, 0, 0, 0, 0, 0, 0, 0, 0, 0, 0] \n",
      "\n",
      "3 th index:  [29, 8, 0, 0, 0, 0, 0, 0, 0, 0, 0, 0, 0, 0, 0, 0, 0, 0, 0, 0, 0, 0, 0, 0, 0, 0, 0, 0, 0, 0, 0, 0, 0, 0, 0, 0, 0, 0, 0, 0, 0, 0, 0, 0, 0, 0, 0, 0, 0, 0, 0] \n",
      "\n",
      "4 th index:  [30, 31, 32, 33, 34, 35, 36, 37, 38, 39, 40, 41, 8, 42, 43, 0, 0, 0, 0, 0, 0, 0, 0, 0, 0, 0, 0, 0, 0, 0, 0, 0, 0, 0, 0, 0, 0, 0, 0, 0, 0, 0, 0, 0, 0, 0, 0, 0, 0, 0, 0] \n",
      "\n",
      "5 th index:  [44, 45, 8, 46, 0, 0, 0, 0, 0, 0, 0, 0, 0, 0, 0, 0, 0, 0, 0, 0, 0, 0, 0, 0, 0, 0, 0, 0, 0, 0, 0, 0, 0, 0, 0, 0, 0, 0, 0, 0, 0, 0, 0, 0, 0, 0, 0, 0, 0, 0, 0] \n",
      "\n",
      "6 th index:  [47, 48, 49, 50, 51, 52, 53, 54, 55, 56, 57, 8, 0, 0, 0, 0, 0, 0, 0, 0, 0, 0, 0, 0, 0, 0, 0, 0, 0, 0, 0, 0, 0, 0, 0, 0, 0, 0, 0, 0, 0, 0, 0, 0, 0, 0, 0, 0, 0, 0, 0] \n",
      "\n",
      "7 th index:  [58, 59, 60, 61, 62, 63, 8, 64, 65, 66, 67, 68, 69, 70, 0, 0, 0, 0, 0, 0, 0, 0, 0, 0, 0, 0, 0, 0, 0, 0, 0, 0, 0, 0, 0, 0, 0, 0, 0, 0, 0, 0, 0, 0, 0, 0, 0, 0, 0, 0, 0] \n",
      "\n",
      "8 th index:  [71, 72, 73, 74, 75, 0, 0, 0, 0, 0, 0, 0, 0, 0, 0, 0, 0, 0, 0, 0, 0, 0, 0, 0, 0, 0, 0, 0, 0, 0, 0, 0, 0, 0, 0, 0, 0, 0, 0, 0, 0, 0, 0, 0, 0, 0, 0, 0, 0, 0, 0] \n",
      "\n",
      "9 th index:  [76, 77, 14, 78, 79, 80, 81, 82, 83, 84, 85, 86, 87, 88, 0, 0, 0, 0, 0, 0, 0, 0, 0, 0, 0, 0, 0, 0, 0, 0, 0, 0, 0, 0, 0, 0, 0, 0, 0, 0, 0, 0, 0, 0, 0, 0, 0, 0, 0, 0, 0] \n"
     ]
    }
   ],
   "source": [
    "train_x_padded = [padded_seq(tweet, vocabulary, max_len) for tweet in train_x]\n",
    "val_x_padded = [padded_seq(tweet, vocabulary, max_len) for tweet in val_x]\n",
    "\n",
    "print(\"first 10 padded sequences for train_x are: \\n\")\n",
    "for i in range(0,10):\n",
    "    print(i, \"th index: \", train_x_padded[i] , \"\\n\")"
   ],
   "metadata": {
    "collapsed": false,
    "ExecuteTime": {
     "end_time": "2024-01-19T06:11:19.607391800Z",
     "start_time": "2024-01-19T06:11:19.439232700Z"
    }
   },
   "id": "e11cc4aac0352b51",
   "execution_count": 18
  },
  {
   "cell_type": "markdown",
   "source": [
    "## Neural Network Setup "
   ],
   "metadata": {
    "collapsed": false
   },
   "id": "3fca81431d8baf57"
  },
  {
   "cell_type": "code",
   "outputs": [],
   "source": [
    "import numpy as np"
   ],
   "metadata": {
    "collapsed": false,
    "ExecuteTime": {
     "end_time": "2024-01-19T06:16:53.235394500Z",
     "start_time": "2024-01-19T06:16:53.184599400Z"
    }
   },
   "id": "7a364aa433ae5dc0",
   "execution_count": 21
  },
  {
   "cell_type": "code",
   "outputs": [],
   "source": [
    "def relu(x):\n",
    "    activation = np.maximum(x, 0)\n",
    "    return activation"
   ],
   "metadata": {
    "collapsed": false,
    "ExecuteTime": {
     "end_time": "2024-01-19T06:16:56.548165300Z",
     "start_time": "2024-01-19T06:16:56.528520100Z"
    }
   },
   "id": "b64d4e880d824c18",
   "execution_count": 22
  },
  {
   "cell_type": "code",
   "outputs": [
    {
     "name": "stdout",
     "output_type": "stream",
     "text": [
      "Test data is: \n",
      "[[ 23.    8.   -9.  -32.   -3.    5.   -9.  109. ]\n",
      " [ -2.   99.   23.5  -9.   -9.   -9.    9.    9. ]] \n",
      "\n",
      "ReLU output is: \n",
      "[[ 23.    8.    0.    0.    0.    5.    0.  109. ]\n",
      " [  0.   99.   23.5   0.    0.    0.    9.    9. ]]\n"
     ]
    }
   ],
   "source": [
    "relu_test = np.array([[23.0, 8.0, -9.0, -32.0, -3.0, 5.0, -9.0, 109.0], [-2.0, 99.0, 23.5, -9.0, -9.0, -9.0, 9.0, 9.0]], dtype=float)\n",
    "print(\"Test data is: \")\n",
    "print(relu_test, \"\\n\")\n",
    "print(\"ReLU output is: \")\n",
    "print(relu(relu_test))"
   ],
   "metadata": {
    "collapsed": false,
    "ExecuteTime": {
     "end_time": "2024-01-19T06:20:58.203059500Z",
     "start_time": "2024-01-19T06:20:58.163293900Z"
    }
   },
   "id": "d4e0e27614941b4",
   "execution_count": 27
  },
  {
   "cell_type": "code",
   "outputs": [],
   "source": [
    "def sigmoid(x):\n",
    "    activation = 1 / (1 + np.exp(-x))\n",
    "    return activation"
   ],
   "metadata": {
    "collapsed": false,
    "ExecuteTime": {
     "end_time": "2024-01-19T06:21:39.465772400Z",
     "start_time": "2024-01-19T06:21:39.398760800Z"
    }
   },
   "id": "9c449ebb52634c18",
   "execution_count": 28
  },
  {
   "cell_type": "code",
   "outputs": [
    {
     "name": "stdout",
     "output_type": "stream",
     "text": [
      "Test data is: \n",
      "[[ 23.    8.   -9.  -32.   -3.    5.   -9.  109. ]\n",
      " [ -2.   99.   23.5  -9.   -9.   -9.    9.    9. ]] \n",
      "\n",
      "Sigmoid output is: \n",
      "[[1.00000000e+00 9.99664650e-01 1.23394576e-04 1.26641655e-14\n",
      "  4.74258732e-02 9.93307149e-01 1.23394576e-04 1.00000000e+00]\n",
      " [1.19202922e-01 1.00000000e+00 1.00000000e+00 1.23394576e-04\n",
      "  1.23394576e-04 1.23394576e-04 9.99876605e-01 9.99876605e-01]]\n"
     ]
    }
   ],
   "source": [
    "sigmoid_test = np.array([[23.0, 8.0, -9.0, -32.0, -3.0, 5.0, -9.0, 109.0], [-2.0, 99.0, 23.5, -9.0, -9.0, -9.0, 9.0, 9.0]], dtype=float)\n",
    "print(\"Test data is: \")\n",
    "print(sigmoid_test, \"\\n\")\n",
    "print(\"Sigmoid output is: \")\n",
    "print(sigmoid(sigmoid_test))"
   ],
   "metadata": {
    "collapsed": false,
    "ExecuteTime": {
     "end_time": "2024-01-19T06:22:39.436221900Z",
     "start_time": "2024-01-19T06:22:39.393839900Z"
    }
   },
   "id": "e5b0188a2713b210",
   "execution_count": 30
  },
  {
   "cell_type": "code",
   "outputs": [],
   "source": [
    "class Dense():\n",
    "    def __init__(self, n_units, input_shape, activation, stdev=0.1, random_seed = 33):\n",
    "        self.n_units = n_units\n",
    "        self.random_generator = np.random.default_rng(seed = random_seed)\n",
    "        self.activation = activation\n",
    "        \n",
    "        weight = self.random_generator.normal(scale=stdev, size=(input_shape[1],n_units))\n",
    "        self.weights = weight\n",
    "        \n",
    "    def __call__(self, x):\n",
    "        return self.forward(x)\n",
    "    \n",
    "    def forward(self, x):\n",
    "        dense = np.dot(x,self.weights)\n",
    "        dense = relu(dense)\n",
    "        return dense"
   ],
   "metadata": {
    "collapsed": false,
    "ExecuteTime": {
     "end_time": "2024-01-19T07:27:24.649855700Z",
     "start_time": "2024-01-19T07:27:24.626200900Z"
    }
   },
   "id": "433c2316e5d5a8de",
   "execution_count": 47
  },
  {
   "cell_type": "code",
   "outputs": [
    {
     "name": "stdout",
     "output_type": "stream",
     "text": [
      "Initial Weights are: \n",
      " [[ 0.039837   -0.05628233  0.05888349  0.00421181 -0.15709005  0.10016547\n",
      "  -0.00978762  0.06198022  0.18368322  0.026843  ]\n",
      " [-0.10744687 -0.0680979   0.10168263 -0.14567682  0.02635893  0.03752645\n",
      "  -0.11503044  0.01692639  0.05562222 -0.07727904]\n",
      " [-0.0480489   0.05437745 -0.12988968 -0.08801546  0.09538697  0.00856235\n",
      "  -0.14161607  0.00113758  0.19412345 -0.15131565]\n",
      " [ 0.08159111  0.07587356 -0.01767848  0.06052824 -0.06741009  0.15447456\n",
      "   0.17201638 -0.08800107 -0.02136539  0.01318832]\n",
      " [-0.06253683  0.03527009 -0.10375882  0.05773811 -0.0300666  -0.00487931\n",
      "   0.04711217  0.09262512 -0.09836953  0.07893147]\n",
      " [ 0.08790771 -0.0115168   0.15377179 -0.0764599  -0.05454218  0.03820581\n",
      "  -0.06803091  0.13926976  0.01980144  0.17195246]]\n",
      "\n",
      "Forward function output is: \n",
      " [[ 1.04733823  0.          2.91957294  0.          3.59206517  0.58604351\n",
      "   0.          0.         10.17973912  0.        ]]\n"
     ]
    }
   ],
   "source": [
    "z = np.array([[2.0, 7.0, 25.0, -3.0, -45.0, 4.0]])\n",
    "dense_layer = Dense(n_units=10, input_shape=z.shape, activation=relu)\n",
    "\n",
    "print(\"Initial Weights are: \\n\", dense_layer.weights)\n",
    "print(\"\\nForward function output is: \\n\",dense_layer(z))"
   ],
   "metadata": {
    "collapsed": false,
    "ExecuteTime": {
     "end_time": "2024-01-19T07:40:27.123639900Z",
     "start_time": "2024-01-19T07:40:27.029583800Z"
    }
   },
   "id": "19341e8911ae725b",
   "execution_count": 52
  },
  {
   "cell_type": "code",
   "outputs": [],
   "source": [
    "from tensorflow import keras\n",
    "\n",
    "def build_model(vocab_size, embedding_size, max_len):\n",
    "    \n",
    "    tf.random.set_seed(33)\n",
    "    \n",
    "    model = tf.keras.Sequential([\n",
    "        tf.keras.layers.Embedding(vocab_size, embedding_size, input_length=max_len),\n",
    "        tf.keras.layers.GlobalAveragePooling1D(),\n",
    "        tf.keras.layers.Dense(1, activation='sigmoid')\n",
    "    ])\n",
    "    \n",
    "    model.compile(loss='binary_crossentropy', optimizer='adam', metrics=['accuracy'])\n",
    "    \n",
    "    return model"
   ],
   "metadata": {
    "collapsed": false,
    "ExecuteTime": {
     "end_time": "2024-01-19T08:17:23.512222700Z",
     "start_time": "2024-01-19T08:17:23.468526200Z"
    }
   },
   "id": "8878b3f8691ff599",
   "execution_count": 57
  },
  {
   "cell_type": "code",
   "outputs": [
    {
     "name": "stdout",
     "output_type": "stream",
     "text": [
      "Model ready\n"
     ]
    }
   ],
   "source": [
    "model = build_model(vocab_size=vocabulary_size, embedding_size=16, max_len=max_len)\n",
    "\n",
    "print(\"Model ready\")"
   ],
   "metadata": {
    "collapsed": false,
    "ExecuteTime": {
     "end_time": "2024-01-19T08:18:38.122870100Z",
     "start_time": "2024-01-19T08:18:37.226848500Z"
    }
   },
   "id": "436c14394e06557b",
   "execution_count": 58
  },
  {
   "cell_type": "code",
   "outputs": [
    {
     "data": {
      "text/plain": "9162"
     },
     "execution_count": 60,
     "metadata": {},
     "output_type": "execute_result"
    }
   ],
   "source": [
    "vocabulary_size"
   ],
   "metadata": {
    "collapsed": false,
    "ExecuteTime": {
     "end_time": "2024-01-19T08:20:18.776964400Z",
     "start_time": "2024-01-19T08:20:18.736620200Z"
    }
   },
   "id": "15fec9bcb34655fd",
   "execution_count": 60
  },
  {
   "cell_type": "code",
   "outputs": [
    {
     "name": "stdout",
     "output_type": "stream",
     "text": [
      "Model: \"sequential_1\"\n",
      "_________________________________________________________________\n",
      " Layer (type)                Output Shape              Param #   \n",
      "=================================================================\n",
      " embedding (Embedding)       (None, 51, 16)            146592    \n",
      "                                                                 \n",
      " global_average_pooling1d_3   (None, 16)               0         \n",
      " (GlobalAveragePooling1D)                                        \n",
      "                                                                 \n",
      " dense_2 (Dense)             (None, 1)                 17        \n",
      "                                                                 \n",
      "=================================================================\n",
      "Total params: 146,609\n",
      "Trainable params: 146,609\n",
      "Non-trainable params: 0\n",
      "_________________________________________________________________\n"
     ]
    }
   ],
   "source": [
    "model.summary()"
   ],
   "metadata": {
    "collapsed": false,
    "ExecuteTime": {
     "end_time": "2024-01-19T08:19:08.004910900Z",
     "start_time": "2024-01-19T08:19:07.856937500Z"
    }
   },
   "id": "b2f18a28055f9cb9",
   "execution_count": 59
  },
  {
   "cell_type": "code",
   "outputs": [
    {
     "name": "stdout",
     "output_type": "stream",
     "text": [
      "data prepped for training\n",
      "training: \n",
      "\n",
      "Epoch 1/25\n",
      "250/250 [==============================] - 2s 5ms/step - loss: 0.0062 - accuracy: 0.9996 - val_loss: 0.0118 - val_accuracy: 0.9970\n",
      "Epoch 2/25\n",
      "250/250 [==============================] - 1s 5ms/step - loss: 0.0056 - accuracy: 0.9998 - val_loss: 0.0110 - val_accuracy: 0.9970\n",
      "Epoch 3/25\n",
      "250/250 [==============================] - 1s 5ms/step - loss: 0.0050 - accuracy: 0.9996 - val_loss: 0.0103 - val_accuracy: 0.9970\n",
      "Epoch 4/25\n",
      "250/250 [==============================] - 1s 5ms/step - loss: 0.0045 - accuracy: 0.9998 - val_loss: 0.0101 - val_accuracy: 0.9965\n",
      "Epoch 5/25\n",
      "250/250 [==============================] - 1s 4ms/step - loss: 0.0042 - accuracy: 0.9996 - val_loss: 0.0091 - val_accuracy: 0.9970\n",
      "Epoch 6/25\n",
      "250/250 [==============================] - 1s 5ms/step - loss: 0.0037 - accuracy: 0.9998 - val_loss: 0.0094 - val_accuracy: 0.9960\n",
      "Epoch 7/25\n",
      "250/250 [==============================] - 1s 5ms/step - loss: 0.0035 - accuracy: 0.9996 - val_loss: 0.0082 - val_accuracy: 0.9970\n",
      "Epoch 8/25\n",
      "250/250 [==============================] - 1s 5ms/step - loss: 0.0032 - accuracy: 0.9998 - val_loss: 0.0081 - val_accuracy: 0.9965\n",
      "Epoch 9/25\n",
      "250/250 [==============================] - 1s 5ms/step - loss: 0.0029 - accuracy: 0.9998 - val_loss: 0.0075 - val_accuracy: 0.9970\n",
      "Epoch 10/25\n",
      "250/250 [==============================] - 1s 5ms/step - loss: 0.0027 - accuracy: 0.9998 - val_loss: 0.0073 - val_accuracy: 0.9970\n",
      "Epoch 11/25\n",
      "250/250 [==============================] - 1s 5ms/step - loss: 0.0025 - accuracy: 0.9998 - val_loss: 0.0070 - val_accuracy: 0.9970\n",
      "Epoch 12/25\n",
      "250/250 [==============================] - 1s 5ms/step - loss: 0.0024 - accuracy: 0.9998 - val_loss: 0.0070 - val_accuracy: 0.9965\n",
      "Epoch 13/25\n",
      "250/250 [==============================] - 1s 5ms/step - loss: 0.0022 - accuracy: 0.9999 - val_loss: 0.0069 - val_accuracy: 0.9965\n",
      "Epoch 14/25\n",
      "250/250 [==============================] - 1s 4ms/step - loss: 0.0021 - accuracy: 0.9998 - val_loss: 0.0068 - val_accuracy: 0.9965\n",
      "Epoch 15/25\n",
      "250/250 [==============================] - 1s 4ms/step - loss: 0.0020 - accuracy: 0.9998 - val_loss: 0.0068 - val_accuracy: 0.9965\n",
      "Epoch 16/25\n",
      "250/250 [==============================] - 1s 5ms/step - loss: 0.0019 - accuracy: 0.9999 - val_loss: 0.0062 - val_accuracy: 0.9970\n",
      "Epoch 17/25\n",
      "250/250 [==============================] - 1s 4ms/step - loss: 0.0017 - accuracy: 0.9999 - val_loss: 0.0064 - val_accuracy: 0.9965\n",
      "Epoch 18/25\n",
      "250/250 [==============================] - 1s 5ms/step - loss: 0.0017 - accuracy: 0.9999 - val_loss: 0.0064 - val_accuracy: 0.9965\n",
      "Epoch 19/25\n",
      "250/250 [==============================] - 1s 5ms/step - loss: 0.0016 - accuracy: 0.9999 - val_loss: 0.0062 - val_accuracy: 0.9965\n",
      "Epoch 20/25\n",
      "250/250 [==============================] - 1s 5ms/step - loss: 0.0015 - accuracy: 0.9999 - val_loss: 0.0068 - val_accuracy: 0.9960\n",
      "Epoch 21/25\n",
      "250/250 [==============================] - 1s 5ms/step - loss: 0.0014 - accuracy: 0.9999 - val_loss: 0.0060 - val_accuracy: 0.9965\n",
      "Epoch 22/25\n",
      "250/250 [==============================] - 1s 5ms/step - loss: 0.0014 - accuracy: 0.9999 - val_loss: 0.0065 - val_accuracy: 0.9965\n",
      "Epoch 23/25\n",
      "250/250 [==============================] - 1s 5ms/step - loss: 0.0013 - accuracy: 0.9999 - val_loss: 0.0061 - val_accuracy: 0.9965\n",
      "Epoch 24/25\n",
      "250/250 [==============================] - 1s 5ms/step - loss: 0.0012 - accuracy: 0.9999 - val_loss: 0.0073 - val_accuracy: 0.9960\n",
      "Epoch 25/25\n",
      "250/250 [==============================] - 1s 5ms/step - loss: 0.0013 - accuracy: 0.9999 - val_loss: 0.0058 - val_accuracy: 0.9970\n"
     ]
    }
   ],
   "source": [
    "from datetime import datetime\n",
    "\n",
    "train_x_model_input = np.array(train_x_padded)\n",
    "val_x_model_input = np.array(val_x_padded)\n",
    "train_y_model_input = np.array(train_y)\n",
    "val_y_model_input = np.array(val_y)\n",
    "\n",
    "print(\"data prepped for training\")\n",
    "\n",
    "print(\"training: \\n\")\n",
    "\n",
    "logdir = \"logs/sa-nlp/model-\" + datetime.now().strftime(\"%d%m%Y_%H%M%S\")\n",
    "tensorboard_callback = keras.callbacks.TensorBoard(log_dir=logdir)\n",
    "\n",
    "history = model.fit(train_x_model_input, train_y_model_input, epochs=25, validation_data=(val_x_model_input, val_y_model_input), callbacks= [tensorboard_callback])"
   ],
   "metadata": {
    "collapsed": false,
    "ExecuteTime": {
     "end_time": "2024-01-19T08:29:19.590533400Z",
     "start_time": "2024-01-19T08:28:49.898466500Z"
    }
   },
   "id": "36e1bd53b0a44a2e",
   "execution_count": 62
  },
  {
   "cell_type": "code",
   "outputs": [
    {
     "data": {
      "text/plain": "Launching TensorBoard..."
     },
     "metadata": {},
     "output_type": "display_data"
    },
    {
     "data": {
      "text/plain": "<IPython.core.display.HTML object>",
      "text/html": "\n      <iframe id=\"tensorboard-frame-8916e06af1c0e01b\" width=\"100%\" height=\"800\" frameborder=\"0\">\n      </iframe>\n      <script>\n        (function() {\n          const frame = document.getElementById(\"tensorboard-frame-8916e06af1c0e01b\");\n          const url = new URL(\"/\", window.location);\n          const port = 6006;\n          if (port) {\n            url.port = port;\n          }\n          frame.src = url;\n        })();\n      </script>\n    "
     },
     "metadata": {},
     "output_type": "display_data"
    }
   ],
   "source": [
    "%tensorboard --logdir logs"
   ],
   "metadata": {
    "collapsed": false,
    "ExecuteTime": {
     "end_time": "2024-01-19T08:29:46.906256700Z",
     "start_time": "2024-01-19T08:29:46.810392300Z"
    }
   },
   "id": "1fd6e96965bdce8b",
   "execution_count": 63
  },
  {
   "cell_type": "code",
   "outputs": [],
   "source": [
    "from nltk.corpus import stopwords\n",
    "from nltk.stem import PorterStemmer\n",
    "from nltk.tokenize import TweetTokenizer\n",
    "import re\n",
    "import string\n",
    "\n",
    "stopwords_english = stopwords.words('english')\n",
    "stemmer = PorterStemmer()\n",
    "\n",
    "\n",
    "def get_prediction(tweet, model, vocab, max_len):\n",
    "    tweet = re.sub(r'#', '', tweet)\n",
    "    tweet = re.sub(r'https:?//[^\\s\\n\\r]+', '', tweet)\n",
    "    tweet = re.sub(r'^RT[\\s]+', '', tweet)\n",
    "    tokenizer = TweetTokenizer(preserve_case=False, strip_handles=True, reduce_len=True)\n",
    "    tokens = tokenizer.tokenize(tweet)\n",
    "    clean_tokens = []\n",
    "    for word in tokens:\n",
    "        if word not in stopwords_english and word not in string.punctuation:\n",
    "            clean_tokens.append(stemmer.stem(word))\n",
    "    \n",
    "    input_sequence = padded_seq(clean_tokens, vocab, max_len)\n",
    "    tweet = np.array([input_sequence])\n",
    "    prediction = model.predict(tweet, verbose=False)\n",
    "    return prediction[0][0]"
   ],
   "metadata": {
    "collapsed": false,
    "ExecuteTime": {
     "end_time": "2024-01-19T08:50:50.570106200Z",
     "start_time": "2024-01-19T08:50:50.490762500Z"
    }
   },
   "id": "51d104712c8c59dc",
   "execution_count": 67
  },
  {
   "cell_type": "code",
   "outputs": [
    {
     "name": "stdout",
     "output_type": "stream",
     "text": [
      "Model prediction on unseen tweet: 0.8048498630523682\n"
     ]
    }
   ],
   "source": [
    "unseen_tweet = 'Ram is a good boy'\n",
    "\n",
    "prediction_unseen = get_prediction(unseen_tweet, model, vocabulary, max_len)\n",
    "print(f\"Model prediction on unseen tweet: {prediction_unseen}\")"
   ],
   "metadata": {
    "collapsed": false,
    "ExecuteTime": {
     "end_time": "2024-01-19T09:21:11.126568700Z",
     "start_time": "2024-01-19T09:21:10.930499900Z"
    }
   },
   "id": "3cde718714474997",
   "execution_count": 69
  },
  {
   "cell_type": "markdown",
   "source": [
    "## Embedding Weights "
   ],
   "metadata": {
    "collapsed": false
   },
   "id": "d399726baac7aee3"
  },
  {
   "cell_type": "code",
   "outputs": [
    {
     "name": "stdout",
     "output_type": "stream",
     "text": [
      "Weights of the embedding layer have shape :(9162, 16) corresponding to vocabulary size of: 9162 and embedding size of: 16\n"
     ]
    }
   ],
   "source": [
    "embedding_layer = model.layers[0]\n",
    "embeddings = embedding_layer.get_weights()[0]\n",
    "\n",
    "print(f\"Weights of the embedding layer have shape :{embeddings.shape} corresponding to vocabulary size of: {vocabulary_size} and embedding size of: 16\")"
   ],
   "metadata": {
    "collapsed": false,
    "ExecuteTime": {
     "end_time": "2024-01-19T09:47:37.377671200Z",
     "start_time": "2024-01-19T09:47:37.255085500Z"
    }
   },
   "id": "c93726d04244def1",
   "execution_count": 71
  },
  {
   "cell_type": "code",
   "outputs": [
    {
     "name": "stdout",
     "output_type": "stream",
     "text": [
      "dimensionality reduced from: (9162, 16) to: (9162, 2)\n"
     ]
    }
   ],
   "source": [
    "from sklearn.decomposition import PCA\n",
    "\n",
    "pca = PCA(n_components=2)\n",
    "embeddings_2D = pca.fit_transform(embeddings)\n",
    "print(f\"dimensionality reduced from: {embeddings.shape} to: {embeddings_2D.shape}\")"
   ],
   "metadata": {
    "collapsed": false,
    "ExecuteTime": {
     "end_time": "2024-01-19T09:51:37.953935700Z",
     "start_time": "2024-01-19T09:51:33.344745900Z"
    }
   },
   "id": "951aa42e789c9542",
   "execution_count": 72
  },
  {
   "cell_type": "code",
   "outputs": [
    {
     "data": {
      "text/plain": "<Figure size 640x480 with 1 Axes>",
      "image/png": "[encoded data removed]"
     },
     "metadata": {},
     "output_type": "display_data"
    }
   ],
   "source": [
    "neg_words = ['bad', 'hurt', 'terrible', 'sad', 'hate', 'worst']\n",
    "pos_words = ['good', 'happy', 'beautiful', 'love', ':)']\n",
    "doubt_words = ['food', 'wow', 'anxious', 'thought']\n",
    "\n",
    "neg_n = [vocabulary[stemmer.stem(w)] for w in neg_words]\n",
    "pos_n = [vocabulary[stemmer.stem(w)] for w in pos_words]\n",
    "dbt_n = [vocabulary[stemmer.stem(w)] for w in doubt_words]\n",
    "\n",
    "plt.figure()\n",
    "\n",
    "plt.scatter(embeddings_2D[neg_n][:,0], embeddings_2D[neg_n][:,1], color = 'r')\n",
    "for i, txt in enumerate(neg_words):\n",
    "    plt.annotate(txt, (embeddings_2D[neg_n][i,0], embeddings_2D[neg_n][i,1]))\n",
    "\n",
    "plt.scatter(embeddings_2D[pos_n][:,0], embeddings_2D[pos_n][:,1], color = 'g')\n",
    "for i, txt in enumerate(pos_words):\n",
    "    plt.annotate(txt, (embeddings_2D[pos_n][i,0], embeddings_2D[pos_n][i,1]))\n",
    "\n",
    "plt.scatter(embeddings_2D[dbt_n][:,0], embeddings_2D[dbt_n][:,1], color = 'y')\n",
    "for i, txt in enumerate(doubt_words):\n",
    "    plt.annotate(txt, (embeddings_2D[dbt_n][i,0], embeddings_2D[dbt_n][i,1]))\n",
    "    \n",
    "plt.title('Word Embeddings in 2D')\n",
    "\n",
    "plt.show()"
   ],
   "metadata": {
    "collapsed": false,
    "ExecuteTime": {
     "end_time": "2024-01-19T10:07:49.466130200Z",
     "start_time": "2024-01-19T10:07:48.852741600Z"
    }
   },
   "id": "e288adcac5db1e3c",
   "execution_count": 79
  },
  {
   "cell_type": "code",
   "outputs": [],
   "source": [],
   "metadata": {
    "collapsed": false
   },
   "id": "d0c2909dd1c3d07c"
  },
  {
   "cell_type": "markdown",
   "source": [
    "## Tensorboard Traceback Tutorial"
   ],
   "metadata": {
    "collapsed": false
   },
   "id": "632809adac20f67a"
  },
  {
   "cell_type": "code",
   "outputs": [],
   "source": [
    "import tensorflow as tf\n",
    "%load_ext tensorboard"
   ],
   "metadata": {
    "collapsed": false,
    "ExecuteTime": {
     "end_time": "2024-01-19T06:45:12.270079700Z",
     "start_time": "2024-01-19T06:45:05.259911900Z"
    }
   },
   "id": "6fe2b6e4be9b5438",
   "execution_count": 31
  },
  {
   "cell_type": "code",
   "outputs": [
    {
     "name": "stdout",
     "output_type": "stream",
     "text": [
      "tensorflow version:  2.8.2\n"
     ]
    }
   ],
   "source": [
    "from datetime import datetime\n",
    "from packaging import version\n",
    "\n",
    "from tensorflow import keras\n",
    "\n",
    "print(\"tensorflow version: \", tf.__version__)\n",
    "assert version.parse(tf.__version__).release[0] >= 2"
   ],
   "metadata": {
    "collapsed": false,
    "ExecuteTime": {
     "end_time": "2024-01-19T06:47:28.219127100Z",
     "start_time": "2024-01-19T06:47:28.195627400Z"
    }
   },
   "id": "82ee78e05aeea46b",
   "execution_count": 32
  },
  {
   "cell_type": "code",
   "outputs": [
    {
     "data": {
      "text/plain": "'2.8.0'"
     },
     "execution_count": 33,
     "metadata": {},
     "output_type": "execute_result"
    }
   ],
   "source": [
    "import tensorboard\n",
    "tensorboard.__version__"
   ],
   "metadata": {
    "collapsed": false,
    "ExecuteTime": {
     "end_time": "2024-01-19T06:47:53.595724100Z",
     "start_time": "2024-01-19T06:47:53.579416400Z"
    }
   },
   "id": "3c027a485954ad43",
   "execution_count": 33
  },
  {
   "cell_type": "code",
   "outputs": [],
   "source": [
    "model = keras.models.Sequential([\n",
    "    keras.layers.Flatten(input_shape=(28, 28)),\n",
    "    keras.layers.Dense(32, activation='relu'),\n",
    "    keras.layers.Dropout(0.2),\n",
    "    keras.layers.Dense(10, activation='softmax')\n",
    "])\n",
    "\n",
    "model.compile(\n",
    "    optimizer='adam',\n",
    "    loss='sparse_categorical_crossentropy',\n",
    "    metrics=['accuracy']\n",
    ")"
   ],
   "metadata": {
    "collapsed": false,
    "ExecuteTime": {
     "end_time": "2024-01-19T06:52:02.203412500Z",
     "start_time": "2024-01-19T06:52:02.037221200Z"
    }
   },
   "id": "d5128f465491d5f8",
   "execution_count": 36
  },
  {
   "cell_type": "code",
   "outputs": [],
   "source": [
    "(train_images, train_labels), _ = keras.datasets.fashion_mnist.load_data()\n",
    "train_images = train_images / 255.0"
   ],
   "metadata": {
    "collapsed": false,
    "ExecuteTime": {
     "end_time": "2024-01-19T06:54:26.854713100Z",
     "start_time": "2024-01-19T06:54:26.249559600Z"
    }
   },
   "id": "6b9e419e4de8cb80",
   "execution_count": 39
  },
  {
   "cell_type": "code",
   "outputs": [
    {
     "name": "stdout",
     "output_type": "stream",
     "text": [
      "Epoch 1/5\n",
      "938/938 [==============================] - 3s 3ms/step - loss: 0.3702 - accuracy: 0.8651\n",
      "Epoch 2/5\n",
      "938/938 [==============================] - 3s 3ms/step - loss: 0.3689 - accuracy: 0.8660\n",
      "Epoch 3/5\n",
      "938/938 [==============================] - 3s 3ms/step - loss: 0.3630 - accuracy: 0.8675\n",
      "Epoch 4/5\n",
      "938/938 [==============================] - 2s 3ms/step - loss: 0.3615 - accuracy: 0.8674\n",
      "Epoch 5/5\n",
      "938/938 [==============================] - 2s 2ms/step - loss: 0.3580 - accuracy: 0.8694\n"
     ]
    },
    {
     "data": {
      "text/plain": "<keras.callbacks.History at 0x260207e4b20>"
     },
     "execution_count": 44,
     "metadata": {},
     "output_type": "execute_result"
    }
   ],
   "source": [
    "logdir = \"logs/fit/\" + datetime.now().strftime(\"%d%m%Y_%H%M%S\")\n",
    "tensorboard_callback = keras.callbacks.TensorBoard(log_dir=logdir)\n",
    "\n",
    "model.fit(train_images, train_labels, batch_size=64, epochs=5, callbacks=[tensorboard_callback])"
   ],
   "metadata": {
    "collapsed": false,
    "ExecuteTime": {
     "end_time": "2024-01-19T07:01:21.240674600Z",
     "start_time": "2024-01-19T07:01:07.978841900Z"
    }
   },
   "id": "b94c0d65b5d59166",
   "execution_count": 44
  },
  {
   "cell_type": "code",
   "outputs": [
    {
     "data": {
      "text/plain": "Launching TensorBoard..."
     },
     "metadata": {},
     "output_type": "display_data"
    },
    {
     "data": {
      "text/plain": "<IPython.core.display.HTML object>",
      "text/html": "\n      <iframe id=\"tensorboard-frame-99fb7031826b78f9\" width=\"100%\" height=\"800\" frameborder=\"0\">\n      </iframe>\n      <script>\n        (function() {\n          const frame = document.getElementById(\"tensorboard-frame-99fb7031826b78f9\");\n          const url = new URL(\"/\", window.location);\n          const port = 6006;\n          if (port) {\n            url.port = port;\n          }\n          frame.src = url;\n        })();\n      </script>\n    "
     },
     "metadata": {},
     "output_type": "display_data"
    }
   ],
   "source": [
    "%tensorboard --logdir logs"
   ],
   "metadata": {
    "collapsed": false,
    "ExecuteTime": {
     "end_time": "2024-01-19T07:06:26.066887100Z",
     "start_time": "2024-01-19T07:06:25.864103900Z"
    }
   },
   "id": "ca4e36a0ba4b73de",
   "execution_count": 46
  },
  {
   "cell_type": "code",
   "outputs": [],
   "source": [],
   "metadata": {
    "collapsed": false
   },
   "id": "80e72beea23b076d"
  }
 ],
 "metadata": {
  "kernelspec": {
   "display_name": "Python 3",
   "language": "python",
   "name": "python3"
  },
  "language_info": {
   "codemirror_mode": {
    "name": "ipython",
    "version": 2
   },
   "file_extension": ".py",
   "mimetype": "text/x-python",
   "name": "python",
   "nbconvert_exporter": "python",
   "pygments_lexer": "ipython2",
   "version": "2.7.6"
  }
 },
 "nbformat": 4,
 "nbformat_minor": 5
}
